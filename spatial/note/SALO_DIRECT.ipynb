{
 "cells": [
  {
   "cell_type": "code",
   "execution_count": 1,
   "metadata": {},
   "outputs": [],
   "source": [
    "# !!!!!!!!!!!!!!!!!\n",
    "# change this to a directory on your local machine to determine where downloads will go\n",
    "output_directory = '/Users/dkapan/GitHub/COMB/spatial/input'"
   ]
  },
  {
   "cell_type": "code",
   "execution_count": 4,
   "metadata": {},
   "outputs": [
    {
     "ename": "ModuleNotFoundError",
     "evalue": "No module named 'cfo'",
     "output_type": "error",
     "traceback": [
      "\u001b[0;31m---------------------------------------------------------------------------\u001b[0m",
      "\u001b[0;31mModuleNotFoundError\u001b[0m                       Traceback (most recent call last)",
      "Cell \u001b[0;32mIn [4], line 2\u001b[0m\n\u001b[1;32m      1\u001b[0m \u001b[38;5;28;01mimport\u001b[39;00m \u001b[38;5;21;01mos\u001b[39;00m\n\u001b[0;32m----> 2\u001b[0m \u001b[38;5;28;01mimport\u001b[39;00m \u001b[38;5;21;01mcfo\u001b[39;00m\n\u001b[1;32m      3\u001b[0m \u001b[38;5;28;01mimport\u001b[39;00m \u001b[38;5;21;01mgdal\u001b[39;00m\n\u001b[1;32m      4\u001b[0m \u001b[38;5;28;01mimport\u001b[39;00m \u001b[38;5;21;01mipyleaflet\u001b[39;00m\n",
      "\u001b[0;31mModuleNotFoundError\u001b[0m: No module named 'cfo'"
     ]
    }
   ],
   "source": [
    "import os\n",
    "import cfo\n",
    "import gdal\n",
    "import ipyleaflet\n",
    "import rasterio\n",
    "import numpy as np\n",
    "from matplotlib import pyplot as plt\n",
    "from ipyleaflet import Map, WMSLayer, LayersControl, basemaps\n",
    "\n",
    "# set plotting style\n",
    "%matplotlib notebook\n",
    "\n",
    "# create the output directory if it doesn't exist\n",
    "if not os.path.exists(output_directory):\n",
    "    os.mkdir(output_directory)"
   ]
  },
  {
   "cell_type": "code",
   "execution_count": 3,
   "metadata": {},
   "outputs": [],
   "source": [
    "forest = cfo.api()"
   ]
  },
  {
   "cell_type": "code",
   "execution_count": 4,
   "metadata": {},
   "outputs": [
    {
     "name": "stdin",
     "output_type": "stream",
     "text": [
      "CFO E-mail:  dkapan@calacademy.org\n",
      "CFO Password:  ···········\n"
     ]
    },
    {
     "data": {
      "text/plain": [
       "200"
      ]
     },
     "execution_count": 4,
     "metadata": {},
     "output_type": "execute_result"
    }
   ],
   "source": [
    "forest.authenticate()\n",
    "#>>> CFO E-mail: dkapan@calacademy.org\n",
    "#>>> CFO Password: RBSS@C@pl3$"
   ]
  },
  {
   "cell_type": "code",
   "execution_count": 5,
   "metadata": {},
   "outputs": [],
   "source": [
    "# change these!\n",
    "vector_path = \"/Users/dkapan/GitHub/Caples_Spatial/input/shapefiles/study_boundary.shp\"\n"
   ]
  },
  {
   "cell_type": "code",
   "execution_count": 9,
   "metadata": {},
   "outputs": [],
   "source": [
    "# then the rest should work\n",
    "output_path = \"/Users/dkapan/GitHub/Caples_Spatial/input/rasters/CaplesCanopyCover2018.tif\"\n",
    "cover18_id = forest.search(geography='California', metric='CanopyCover', year=2018)\n",
    "cover18_path = forest.fetch(cover18_id[0], gdal=True)\n",
    "warpOptions = gdal.WarpOptions(\n",
    "    creationOptions = [\"COMPRESS=DEFLATE\", \"TILED=YES\", \"BIGTIFF=YES\", \"NUM_THREADS=ALL_CPUS\"],\n",
    "    cutlineDSName = vector_path,\n",
    "    cropToCutline = True\n",
    ")\n",
    "warp = gdal.Warp(output_path, cover18_path, options=warpOptions)\n",
    "warp.FlushCache()"
   ]
  },
  {
   "cell_type": "code",
   "execution_count": 10,
   "metadata": {},
   "outputs": [],
   "source": [
    "# then the rest should work\n",
    "output_path = \"/Users/dkapan/GitHub/Caples_Spatial/input/rasters/CaplesCanopyHeight2018.tif\"\n",
    "height18_id = forest.search(geography='California', metric='CanopyHeight', year=2018)\n",
    "height18_path = forest.fetch(height18_id[0], gdal=True)\n",
    "warpOptions = gdal.WarpOptions(\n",
    "    creationOptions = [\"COMPRESS=DEFLATE\", \"TILED=YES\", \"BIGTIFF=YES\", \"NUM_THREADS=ALL_CPUS\"],\n",
    "    cutlineDSName = vector_path,\n",
    "    cropToCutline = True\n",
    ")\n",
    "warp = gdal.Warp(output_path, height18_path, options=warpOptions)\n",
    "warp.FlushCache()\n"
   ]
  },
  {
   "cell_type": "code",
   "execution_count": 11,
   "metadata": {},
   "outputs": [],
   "source": [
    "# then the rest should work\n",
    "output_path = \"/Users/dkapan/GitHub/Caples_Spatial/input/rasters/CaplesCanopyCover2019.tif\"\n",
    "cover19_id = forest.search(geography='California', metric='CanopyCover', year=2019)\n",
    "cover19_path = forest.fetch(cover19_id[0], gdal=True)\n",
    "warpOptions = gdal.WarpOptions(\n",
    "    creationOptions = [\"COMPRESS=DEFLATE\", \"TILED=YES\", \"BIGTIFF=YES\", \"NUM_THREADS=ALL_CPUS\"],\n",
    "    cutlineDSName = vector_path,\n",
    "    cropToCutline = True\n",
    ")\n",
    "warp = gdal.Warp(output_path, cover19_path, options=warpOptions)\n",
    "warp.FlushCache()"
   ]
  },
  {
   "cell_type": "code",
   "execution_count": 12,
   "metadata": {},
   "outputs": [],
   "source": [
    "# then the rest should work\n",
    "output_path = \"/Users/dkapan/GitHub/Caples_Spatial/input/rasters/CaplesCanopyHeight2019.tif\"\n",
    "height19_id = forest.search(geography='California', metric='CanopyHeight', year=2018)\n",
    "height19_path = forest.fetch(height19_id[0], gdal=True)\n",
    "warpOptions = gdal.WarpOptions(\n",
    "    creationOptions = [\"COMPRESS=DEFLATE\", \"TILED=YES\", \"BIGTIFF=YES\", \"NUM_THREADS=ALL_CPUS\"],\n",
    "    cutlineDSName = vector_path,\n",
    "    cropToCutline = True\n",
    ")\n",
    "warp = gdal.Warp(output_path, height19_path, options=warpOptions)\n",
    "warp.FlushCache()"
   ]
  },
  {
   "cell_type": "code",
   "execution_count": 13,
   "metadata": {},
   "outputs": [],
   "source": [
    "# then the rest should work\n",
    "output_path = \"/Users/dkapan/GitHub/Caples_Spatial/input/rasters/CaplesCanopyCover2020.tif\"\n",
    "cover20_id = forest.search(geography='California', metric='CanopyCover', year=2019)\n",
    "cover20_path = forest.fetch(cover20_id[0], gdal=True)\n",
    "warpOptions = gdal.WarpOptions(\n",
    "    creationOptions = [\"COMPRESS=DEFLATE\", \"TILED=YES\", \"BIGTIFF=YES\", \"NUM_THREADS=ALL_CPUS\"],\n",
    "    cutlineDSName = vector_path,\n",
    "    cropToCutline = True\n",
    ")\n",
    "warp = gdal.Warp(output_path, cover20_path, options=warpOptions)\n",
    "warp.FlushCache()"
   ]
  },
  {
   "cell_type": "code",
   "execution_count": 14,
   "metadata": {},
   "outputs": [],
   "source": [
    "# then the rest should work\n",
    "output_path = \"/Users/dkapan/GitHub/Caples_Spatial/input/rasters/CaplesCanopyHeight2020.tif\"\n",
    "height20_id = forest.search(geography='California', metric='CanopyHeight', year=2018)\n",
    "height20_path = forest.fetch(height20_id[0], gdal=True)\n",
    "warpOptions = gdal.WarpOptions(\n",
    "    creationOptions = [\"COMPRESS=DEFLATE\", \"TILED=YES\", \"BIGTIFF=YES\", \"NUM_THREADS=ALL_CPUS\"],\n",
    "    cutlineDSName = vector_path,\n",
    "    cropToCutline = True\n",
    ")\n",
    "warp = gdal.Warp(output_path, height20_path, options=warpOptions)\n",
    "warp.FlushCache()"
   ]
  },
  {
   "cell_type": "code",
   "execution_count": null,
   "metadata": {},
   "outputs": [],
   "source": []
  }
 ],
 "metadata": {
  "kernelspec": {
   "display_name": "Python 3 (ipykernel)",
   "language": "python",
   "name": "python3"
  },
  "language_info": {
   "codemirror_mode": {
    "name": "ipython",
    "version": 3
   },
   "file_extension": ".py",
   "mimetype": "text/x-python",
   "name": "python",
   "nbconvert_exporter": "python",
   "pygments_lexer": "ipython3",
   "version": "3.8.13"
  }
 },
 "nbformat": 4,
 "nbformat_minor": 4
}
