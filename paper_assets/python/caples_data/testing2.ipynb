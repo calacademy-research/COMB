{
 "cells": [
  {
   "cell_type": "code",
   "execution_count": 1,
   "metadata": {},
   "outputs": [],
   "source": [
    "import polars as pl\n",
    "import numpy as np\n",
    "from combine_aru_pc import CombinedData, CombinedParams"
   ]
  },
  {
   "cell_type": "code",
   "execution_count": 2,
   "metadata": {},
   "outputs": [],
   "source": [
    "aru = pl.read_parquet(\"~/caples_sound/outputs_all/outputs_agg_points.parquet\")\n",
    "aru = aru.with_columns(\n",
    "    datetime=pl.col(\"filename\")\n",
    "    .str.extract(r\"_(\\d{8}_\\d{6})\", 1)\n",
    "    .str.strptime(pl.Datetime, \"%Y%m%d_%H%M%S\"),\n",
    ").filter(\n",
    "    pl.col(\"point\") != 0,\n",
    ")"
   ]
  },
  {
   "cell_type": "code",
   "execution_count": 3,
   "metadata": {},
   "outputs": [],
   "source": [
    "pc = pl.read_csv(\"~/COMB/point_counts/data_ingest/output/PC_delinted.csv\")\n",
    "# visit needs to be 0 indexed, it is 1 indexed in the csv\n",
    "pc = pc.with_columns(\n",
    "    visit=pl.col(\"visit\") - 1,\n",
    "    DateTime=pl.col(\"DateTime\").str.to_datetime(),\n",
    ")"
   ]
  },
  {
   "cell_type": "code",
   "execution_count": 4,
   "metadata": {},
   "outputs": [
    {
     "name": "stdout",
     "output_type": "stream",
     "text": [
      "shape: (1,)\n",
      "Series: 'label' [str]\n",
      "[\n",
      "\t\"gockin\"\n",
      "]\n",
      "shape: (1,)\n",
      "Series: 'birdCode_fk' [str]\n",
      "[\n",
      "\t\"gockin\"\n",
      "]\n"
     ]
    }
   ],
   "source": [
    "combined_params = CombinedParams(\n",
    "    aru_species_col=\"label\",\n",
    "    aru_visit_limit=24,\n",
    "    years=[2018, 2019, 2020, 2021, 2022],\n",
    "    pc_species_col=\"birdCode_fk\",\n",
    "    pc_count_col=\"abun\",\n",
    "    pc_datetime_col=\"DateTime\",\n",
    "    pc_point_col=\"point_ID_fk\",\n",
    "    pc_visit_index_col=\"visit\",\n",
    "    species=[\"gockin\"]\n",
    ")\n",
    "combined = CombinedData(aru, pc, combined_params)"
   ]
  },
  {
   "cell_type": "code",
   "execution_count": 7,
   "metadata": {},
   "outputs": [
    {
     "data": {
      "text/plain": [
       "((1, 5, 81, 3),\n",
       " array([[1, 0, 0],\n",
       "        [0, 0, 1],\n",
       "        [1, 1, 1],\n",
       "        [1, 1, 1],\n",
       "        [1, 0, 1],\n",
       "        [1, 0, 0],\n",
       "        [1, 0, 1],\n",
       "        [1, 1, 1],\n",
       "        [0, 0, 0],\n",
       "        [1, 1, 0],\n",
       "        [1, 0, 0],\n",
       "        [1, 0, 0],\n",
       "        [0, 1, 0],\n",
       "        [1, 1, 1],\n",
       "        [1, 1, 1],\n",
       "        [1, 0, 1],\n",
       "        [1, 0, 0],\n",
       "        [1, 1, 1],\n",
       "        [1, 1, 0],\n",
       "        [1, 1, 0],\n",
       "        [1, 0, 0],\n",
       "        [0, 0, 0],\n",
       "        [1, 0, 1],\n",
       "        [1, 1, 0],\n",
       "        [1, 1, 1],\n",
       "        [1, 1, 1],\n",
       "        [0, 1, 0],\n",
       "        [1, 1, 0],\n",
       "        [0, 1, 0],\n",
       "        [0, 0, 0],\n",
       "        [1, 0, 1],\n",
       "        [0, 1, 1],\n",
       "        [0, 0, 1],\n",
       "        [1, 1, 0],\n",
       "        [0, 1, 1],\n",
       "        [0, 0, 0],\n",
       "        [0, 0, 0],\n",
       "        [0, 1, 0],\n",
       "        [0, 0, 0],\n",
       "        [0, 0, 0],\n",
       "        [0, 0, 0],\n",
       "        [0, 0, 0],\n",
       "        [1, 1, 1],\n",
       "        [0, 1, 1],\n",
       "        [0, 0, 0],\n",
       "        [0, 0, 0],\n",
       "        [0, 1, 1],\n",
       "        [0, 0, 0],\n",
       "        [0, 0, 0],\n",
       "        [1, 1, 0],\n",
       "        [0, 0, 0],\n",
       "        [0, 0, 0],\n",
       "        [1, 0, 0],\n",
       "        [1, 0, 0],\n",
       "        [0, 0, 0],\n",
       "        [0, 0, 0],\n",
       "        [0, 1, 0],\n",
       "        [1, 0, 0],\n",
       "        [1, 1, 1],\n",
       "        [0, 1, 1],\n",
       "        [0, 1, 0],\n",
       "        [0, 0, 0],\n",
       "        [0, 0, 1],\n",
       "        [0, 0, 0],\n",
       "        [0, 0, 0],\n",
       "        [0, 0, 0],\n",
       "        [0, 0, 1],\n",
       "        [1, 1, 1],\n",
       "        [0, 0, 0],\n",
       "        [1, 1, 1],\n",
       "        [0, 0, 0],\n",
       "        [0, 1, 0],\n",
       "        [0, 0, 0],\n",
       "        [0, 0, 0],\n",
       "        [0, 0, 0],\n",
       "        [0, 0, 1],\n",
       "        [0, 0, 0],\n",
       "        [0, 0, 0],\n",
       "        [0, 0, 0],\n",
       "        [0, 0, 0],\n",
       "        [0, 0, 0]]))"
      ]
     },
     "execution_count": 7,
     "metadata": {},
     "output_type": "execute_result"
    }
   ],
   "source": [
    "y_pc = combined.combined_data[\"y_index\"]\n",
    "pc_date = combined.combined_data[\"date_pc\"]\n",
    "np.unique((np.isnan(y_pc) == np.isnan(pc_date)))\n",
    "y_pc.shape, y_pc[0,0]"
   ]
  },
  {
   "cell_type": "code",
   "execution_count": 52,
   "metadata": {},
   "outputs": [
    {
     "data": {
      "text/plain": [
       "0.35246646357757466"
      ]
     },
     "execution_count": 52,
     "metadata": {},
     "output_type": "execute_result"
    }
   ],
   "source": [
    "np.isnan(combined.combined_data[\"y_pc\"]).mean()"
   ]
  },
  {
   "cell_type": "code",
   "execution_count": null,
   "metadata": {},
   "outputs": [],
   "source": []
  }
 ],
 "metadata": {
  "kernelspec": {
   "display_name": "COMB",
   "language": "python",
   "name": "python3"
  },
  "language_info": {
   "codemirror_mode": {
    "name": "ipython",
    "version": 3
   },
   "file_extension": ".py",
   "mimetype": "text/x-python",
   "name": "python",
   "nbconvert_exporter": "python",
   "pygments_lexer": "ipython3",
   "version": "3.9.19"
  }
 },
 "nbformat": 4,
 "nbformat_minor": 2
}
