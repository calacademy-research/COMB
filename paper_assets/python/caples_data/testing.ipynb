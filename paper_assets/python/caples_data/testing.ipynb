{
 "cells": [
  {
   "cell_type": "code",
   "execution_count": 1,
   "metadata": {},
   "outputs": [],
   "source": [
    "from read_cap_data import ARUDataParams, AruData, PCDataParams, PcData\n",
    "import polars as pl\n",
    "import numpy as np"
   ]
  },
  {
   "cell_type": "code",
   "execution_count": 2,
   "metadata": {},
   "outputs": [],
   "source": [
    "aru = pl.read_parquet('~/caples_sound/outputs_all/outputs_agg_points.parquet')"
   ]
  },
  {
   "cell_type": "code",
   "execution_count": 3,
   "metadata": {},
   "outputs": [],
   "source": [
    "aru = aru.with_columns(\n",
    "    datetime=pl.col(\"filename\")\n",
    "    .str.extract(r\"_(\\d{8}_\\d{6})\", 1)\n",
    "    .str.strptime(pl.Datetime, \"%Y%m%d_%H%M%S\"),\n",
    ").filter(\n",
    "    pl.col(\"point\") != 0,\n",
    ")"
   ]
  },
  {
   "cell_type": "code",
   "execution_count": 4,
   "metadata": {},
   "outputs": [
    {
     "data": {
      "text/html": [
       "<div><style>\n",
       ".dataframe > thead > tr,\n",
       ".dataframe > tbody > tr {\n",
       "  text-align: right;\n",
       "  white-space: pre-wrap;\n",
       "}\n",
       "</style>\n",
       "<small>shape: (4_789_449, 5)</small><table border=\"1\" class=\"dataframe\"><thead><tr><th>filename</th><th>label</th><th>logit</th><th>point</th><th>datetime</th></tr><tr><td>str</td><td>str</td><td>f64</td><td>f64</td><td>datetime[μs]</td></tr></thead><tbody><tr><td>&quot;15-PEACOCK_20210606_063000.wav&quot;</td><td>&quot;whbnut_call&quot;</td><td>-4.02</td><td>535.0</td><td>2021-06-06 06:30:00</td></tr><tr><td>&quot;22-CHEETAH_20230611_090000.wav&quot;</td><td>&quot;sonspa_call&quot;</td><td>-4.34</td><td>534.0</td><td>2023-06-11 09:00:00</td></tr><tr><td>&quot;ORANGE-7-CAP_20190609_190000.w…</td><td>&quot;compoo_song&quot;</td><td>-3.93</td><td>622.0</td><td>2019-06-09 19:00:00</td></tr><tr><td>&quot;2-WHITE_20210601_190000.wav&quot;</td><td>&quot;comrav_call&quot;</td><td>-3.71</td><td>442.0</td><td>2021-06-01 19:00:00</td></tr><tr><td>&quot;ORANGE-7-CAP_20190611_043000.w…</td><td>&quot;comnig_call&quot;</td><td>-7.12</td><td>622.0</td><td>2019-06-11 04:30:00</td></tr><tr><td>&hellip;</td><td>&hellip;</td><td>&hellip;</td><td>&hellip;</td><td>&hellip;</td></tr><tr><td>&quot;GREEN-5-CAPL_20200617_173000.w…</td><td>&quot;chispa_song&quot;</td><td>-6.34</td><td>842.0</td><td>2020-06-17 17:30:00</td></tr><tr><td>&quot;CLEAR-1-CAPL_20190603_163000.w…</td><td>&quot;towsol_song&quot;</td><td>-5.38</td><td>935.0</td><td>2019-06-03 16:30:00</td></tr><tr><td>&quot;17-ENSATINA_20230611_210000.wa…</td><td>&quot;hamfly_song&quot;</td><td>-8.3</td><td>714.0</td><td>2023-06-11 21:00:00</td></tr><tr><td>&quot;GREEN-5-CAPL_20200603_223000.w…</td><td>&quot;haiwoo_call&quot;</td><td>-6.62</td><td>893.0</td><td>2020-06-03 22:30:00</td></tr><tr><td>&quot;17-ENSATINA_20200607_093000.wa…</td><td>&quot;westan_call&quot;</td><td>-6.59</td><td>450.0</td><td>2020-06-07 09:30:00</td></tr></tbody></table></div>"
      ],
      "text/plain": [
       "shape: (4_789_449, 5)\n",
       "┌─────────────────────────────────┬─────────────┬───────┬───────┬─────────────────────┐\n",
       "│ filename                        ┆ label       ┆ logit ┆ point ┆ datetime            │\n",
       "│ ---                             ┆ ---         ┆ ---   ┆ ---   ┆ ---                 │\n",
       "│ str                             ┆ str         ┆ f64   ┆ f64   ┆ datetime[μs]        │\n",
       "╞═════════════════════════════════╪═════════════╪═══════╪═══════╪═════════════════════╡\n",
       "│ 15-PEACOCK_20210606_063000.wav  ┆ whbnut_call ┆ -4.02 ┆ 535.0 ┆ 2021-06-06 06:30:00 │\n",
       "│ 22-CHEETAH_20230611_090000.wav  ┆ sonspa_call ┆ -4.34 ┆ 534.0 ┆ 2023-06-11 09:00:00 │\n",
       "│ ORANGE-7-CAP_20190609_190000.w… ┆ compoo_song ┆ -3.93 ┆ 622.0 ┆ 2019-06-09 19:00:00 │\n",
       "│ 2-WHITE_20210601_190000.wav     ┆ comrav_call ┆ -3.71 ┆ 442.0 ┆ 2021-06-01 19:00:00 │\n",
       "│ ORANGE-7-CAP_20190611_043000.w… ┆ comnig_call ┆ -7.12 ┆ 622.0 ┆ 2019-06-11 04:30:00 │\n",
       "│ …                               ┆ …           ┆ …     ┆ …     ┆ …                   │\n",
       "│ GREEN-5-CAPL_20200617_173000.w… ┆ chispa_song ┆ -6.34 ┆ 842.0 ┆ 2020-06-17 17:30:00 │\n",
       "│ CLEAR-1-CAPL_20190603_163000.w… ┆ towsol_song ┆ -5.38 ┆ 935.0 ┆ 2019-06-03 16:30:00 │\n",
       "│ 17-ENSATINA_20230611_210000.wa… ┆ hamfly_song ┆ -8.3  ┆ 714.0 ┆ 2023-06-11 21:00:00 │\n",
       "│ GREEN-5-CAPL_20200603_223000.w… ┆ haiwoo_call ┆ -6.62 ┆ 893.0 ┆ 2020-06-03 22:30:00 │\n",
       "│ 17-ENSATINA_20200607_093000.wa… ┆ westan_call ┆ -6.59 ┆ 450.0 ┆ 2020-06-07 09:30:00 │\n",
       "└─────────────────────────────────┴─────────────┴───────┴───────┴─────────────────────┘"
      ]
     },
     "execution_count": 4,
     "metadata": {},
     "output_type": "execute_result"
    }
   ],
   "source": [
    "aru"
   ]
  },
  {
   "cell_type": "code",
   "execution_count": 5,
   "metadata": {},
   "outputs": [],
   "source": [
    "ad = AruData(\n",
    "    aru,\n",
    "    ARUDataParams(\n",
    "        species_col=\"label\",\n",
    "        species=[\"westan_song\"],\n",
    "        aru_visit_limit=24,\n",
    "        years=[2020],\n",
    "    ),\n",
    ")"
   ]
  },
  {
   "cell_type": "code",
   "execution_count": 6,
   "metadata": {},
   "outputs": [
    {
     "data": {
      "text/plain": [
       "(array([ 0.,  1., nan], dtype=float32), array([1655,   82,  159]))"
      ]
     },
     "execution_count": 6,
     "metadata": {},
     "output_type": "execute_result"
    }
   ],
   "source": [
    "np.unique(ad.aru_data_dict[\"y_aru\"], return_counts=True)"
   ]
  },
  {
   "cell_type": "code",
   "execution_count": 7,
   "metadata": {},
   "outputs": [
    {
     "data": {
      "text/plain": [
       "(1, 1, 79, 24)"
      ]
     },
     "execution_count": 7,
     "metadata": {},
     "output_type": "execute_result"
    }
   ],
   "source": [
    "ad.aru_data_dict[\"y_aru\"].shape"
   ]
  },
  {
   "cell_type": "code",
   "execution_count": 8,
   "metadata": {},
   "outputs": [
    {
     "data": {
      "text/plain": [
       "array([[[[-5.72, -6.61, -6.1 , ..., -7.59, -4.93, -5.59],\n",
       "         [-3.31, -3.08, -3.62, ..., -7.23, -7.8 , -7.38],\n",
       "         [ 1.91, -5.9 , -5.44, ..., -3.32,   nan,   nan],\n",
       "         ...,\n",
       "         [-2.02, -4.11, -2.43, ..., -5.32, -6.76, -5.98],\n",
       "         [-0.9 , -2.55, -4.79, ..., -5.46, -5.71, -3.54],\n",
       "         [-6.37, -5.75, -5.07, ..., -4.54, -2.32, -2.82]]]], dtype=float32)"
      ]
     },
     "execution_count": 8,
     "metadata": {},
     "output_type": "execute_result"
    }
   ],
   "source": [
    "ad.aru_data_dict[\"scores\"]"
   ]
  },
  {
   "cell_type": "code",
   "execution_count": 2,
   "metadata": {},
   "outputs": [],
   "source": [
    "pc = pl.read_csv(\"~/COMB/point_counts/data_ingest/output/PC_delinted.csv\")\n",
    "pc = pc.with_columns(\n",
    "    visit=pl.col(\"visit\") - 1,\n",
    ")"
   ]
  },
  {
   "cell_type": "code",
   "execution_count": 3,
   "metadata": {},
   "outputs": [
    {
     "data": {
      "text/html": [
       "<div><style>\n",
       ".dataframe > thead > tr,\n",
       ".dataframe > tbody > tr {\n",
       "  text-align: right;\n",
       "  white-space: pre-wrap;\n",
       "}\n",
       "</style>\n",
       "<small>shape: (65_000, 7)</small><table border=\"1\" class=\"dataframe\"><thead><tr><th>abun</th><th>observer_fk</th><th>DateTime</th><th>point_ID_fk</th><th>year</th><th>birdCode_fk</th><th>visit</th></tr><tr><td>i64</td><td>str</td><td>str</td><td>i64</td><td>i64</td><td>str</td><td>i64</td></tr></thead><tbody><tr><td>0</td><td>&quot;JPD&quot;</td><td>&quot;2021-05-29T12:49:00Z&quot;</td><td>1057</td><td>2021</td><td>&quot;AMDI&quot;</td><td>0</td></tr><tr><td>0</td><td>&quot;JPD&quot;</td><td>&quot;2021-05-29T12:49:00Z&quot;</td><td>1057</td><td>2021</td><td>&quot;AMRO&quot;</td><td>0</td></tr><tr><td>0</td><td>&quot;JPD&quot;</td><td>&quot;2021-05-29T12:49:00Z&quot;</td><td>1057</td><td>2021</td><td>&quot;ANHU&quot;</td><td>0</td></tr><tr><td>0</td><td>&quot;JPD&quot;</td><td>&quot;2021-05-29T12:49:00Z&quot;</td><td>1057</td><td>2021</td><td>&quot;AUWA&quot;</td><td>0</td></tr><tr><td>0</td><td>&quot;JPD&quot;</td><td>&quot;2021-05-29T12:49:00Z&quot;</td><td>1057</td><td>2021</td><td>&quot;BBWO&quot;</td><td>0</td></tr><tr><td>&hellip;</td><td>&hellip;</td><td>&hellip;</td><td>&hellip;</td><td>&hellip;</td><td>&hellip;</td><td>&hellip;</td></tr><tr><td>0</td><td>&quot;MP&quot;</td><td>&quot;2020-06-12T15:43:00Z&quot;</td><td>800</td><td>2020</td><td>&quot;WBNU&quot;</td><td>2</td></tr><tr><td>0</td><td>&quot;MP&quot;</td><td>&quot;2020-06-12T15:43:00Z&quot;</td><td>800</td><td>2020</td><td>&quot;WETA&quot;</td><td>2</td></tr><tr><td>0</td><td>&quot;MP&quot;</td><td>&quot;2020-06-12T15:43:00Z&quot;</td><td>800</td><td>2020</td><td>&quot;WEWP&quot;</td><td>2</td></tr><tr><td>0</td><td>&quot;MP&quot;</td><td>&quot;2020-06-12T15:43:00Z&quot;</td><td>800</td><td>2020</td><td>&quot;WHWO&quot;</td><td>2</td></tr><tr><td>0</td><td>&quot;MP&quot;</td><td>&quot;2020-06-12T15:43:00Z&quot;</td><td>800</td><td>2020</td><td>&quot;WISA&quot;</td><td>2</td></tr></tbody></table></div>"
      ],
      "text/plain": [
       "shape: (65_000, 7)\n",
       "┌──────┬─────────────┬──────────────────────┬─────────────┬──────┬─────────────┬───────┐\n",
       "│ abun ┆ observer_fk ┆ DateTime             ┆ point_ID_fk ┆ year ┆ birdCode_fk ┆ visit │\n",
       "│ ---  ┆ ---         ┆ ---                  ┆ ---         ┆ ---  ┆ ---         ┆ ---   │\n",
       "│ i64  ┆ str         ┆ str                  ┆ i64         ┆ i64  ┆ str         ┆ i64   │\n",
       "╞══════╪═════════════╪══════════════════════╪═════════════╪══════╪═════════════╪═══════╡\n",
       "│ 0    ┆ JPD         ┆ 2021-05-29T12:49:00Z ┆ 1057        ┆ 2021 ┆ AMDI        ┆ 0     │\n",
       "│ 0    ┆ JPD         ┆ 2021-05-29T12:49:00Z ┆ 1057        ┆ 2021 ┆ AMRO        ┆ 0     │\n",
       "│ 0    ┆ JPD         ┆ 2021-05-29T12:49:00Z ┆ 1057        ┆ 2021 ┆ ANHU        ┆ 0     │\n",
       "│ 0    ┆ JPD         ┆ 2021-05-29T12:49:00Z ┆ 1057        ┆ 2021 ┆ AUWA        ┆ 0     │\n",
       "│ 0    ┆ JPD         ┆ 2021-05-29T12:49:00Z ┆ 1057        ┆ 2021 ┆ BBWO        ┆ 0     │\n",
       "│ …    ┆ …           ┆ …                    ┆ …           ┆ …    ┆ …           ┆ …     │\n",
       "│ 0    ┆ MP          ┆ 2020-06-12T15:43:00Z ┆ 800         ┆ 2020 ┆ WBNU        ┆ 2     │\n",
       "│ 0    ┆ MP          ┆ 2020-06-12T15:43:00Z ┆ 800         ┆ 2020 ┆ WETA        ┆ 2     │\n",
       "│ 0    ┆ MP          ┆ 2020-06-12T15:43:00Z ┆ 800         ┆ 2020 ┆ WEWP        ┆ 2     │\n",
       "│ 0    ┆ MP          ┆ 2020-06-12T15:43:00Z ┆ 800         ┆ 2020 ┆ WHWO        ┆ 2     │\n",
       "│ 0    ┆ MP          ┆ 2020-06-12T15:43:00Z ┆ 800         ┆ 2020 ┆ WISA        ┆ 2     │\n",
       "└──────┴─────────────┴──────────────────────┴─────────────┴──────┴─────────────┴───────┘"
      ]
     },
     "execution_count": 3,
     "metadata": {},
     "output_type": "execute_result"
    }
   ],
   "source": [
    "pc"
   ]
  },
  {
   "cell_type": "code",
   "execution_count": 4,
   "metadata": {},
   "outputs": [],
   "source": [
    "p = PcData(\n",
    "    pc,\n",
    "    PCDataParams(\n",
    "        species_col=\"birdCode_fk\",\n",
    "        count_col=\"abun\",\n",
    "        datetime_col=\"DateTime\",\n",
    "        point_col=\"point_ID_fk\",\n",
    "        visit_index_col=\"visit\",\n",
    "        species=[\"BRCR\"]\n",
    "    ),\n",
    ")"
   ]
  },
  {
   "cell_type": "code",
   "execution_count": 4,
   "metadata": {},
   "outputs": [
    {
     "ename": "NameError",
     "evalue": "name 'p' is not defined",
     "output_type": "error",
     "traceback": [
      "\u001b[0;31m---------------------------------------------------------------------------\u001b[0m",
      "\u001b[0;31mNameError\u001b[0m                                 Traceback (most recent call last)",
      "Cell \u001b[0;32mIn[4], line 1\u001b[0m\n\u001b[0;32m----> 1\u001b[0m \u001b[43mp\u001b[49m\u001b[38;5;241m.\u001b[39mpc_data_dict[\u001b[38;5;124m\"\u001b[39m\u001b[38;5;124my_ind\u001b[39m\u001b[38;5;124m\"\u001b[39m]\u001b[38;5;241m.\u001b[39mshape\n",
      "\u001b[0;31mNameError\u001b[0m: name 'p' is not defined"
     ]
    }
   ],
   "source": [
    "p.pc_data_dict[\"y_ind\"].shape"
   ]
  },
  {
   "cell_type": "code",
   "execution_count": 10,
   "metadata": {},
   "outputs": [
    {
     "data": {
      "text/plain": [
       "{'AMDI': 'amedip',\n",
       " 'AMKE': 'amekes',\n",
       " 'AMPI': 'amepip',\n",
       " 'AMRO': 'amerob',\n",
       " 'ANHU': 'annhum',\n",
       " 'BTPI': 'batpig1',\n",
       " 'BEKI': 'belkin1',\n",
       " 'BLPH': 'blkpho',\n",
       " 'BBWO': 'bkbwoo',\n",
       " 'BHGR': 'bkhgro',\n",
       " 'BTYW': 'btywar',\n",
       " 'BRBL': 'brebla',\n",
       " 'BRSP': 'brespa',\n",
       " 'BRCR': 'brncre',\n",
       " 'BUFF': 'buffle',\n",
       " 'BUSH': 'bushti',\n",
       " 'CASJ': 'cowscj1',\n",
       " 'CAHU': 'calhum',\n",
       " 'CANG': 'cangoo',\n",
       " 'CAFI': 'casfin',\n",
       " 'CAVI': 'casvir',\n",
       " 'CHSP': 'chispa',\n",
       " 'CLNU': 'clanut',\n",
       " 'CLSW': 'cliswa',\n",
       " 'COME': 'commer',\n",
       " 'CONI': 'comnig',\n",
       " 'COPO': 'compoo',\n",
       " 'CORA': 'comrav',\n",
       " 'COHA': 'coohaw',\n",
       " 'DEJU': 'daejun',\n",
       " 'DUFL': 'dusfly',\n",
       " 'EVGR': 'evegro',\n",
       " 'FLOW': 'flaowl',\n",
       " 'FOSP': 'foxspa',\n",
       " 'GADW': 'gadwal',\n",
       " 'GCKI': 'gockin',\n",
       " 'GCRF': 'gcrfin',\n",
       " 'GHOW': 'grhowl',\n",
       " 'GTTO': 'gnttow',\n",
       " 'HAWO': 'haiwoo',\n",
       " 'HAFL': 'hamfly',\n",
       " 'HETH': 'herthr',\n",
       " 'HEWA': 'herwar',\n",
       " 'HOFI': 'houfin',\n",
       " 'HOWR': 'houwre',\n",
       " 'LAZB': 'lazbun',\n",
       " 'LEGO': 'lesgol',\n",
       " 'LISP': 'linspa',\n",
       " 'MGWA': 'macwar',\n",
       " 'MALL': 'mallar',\n",
       " 'MOBL': 'moublu',\n",
       " 'MOCH': 'mouchi',\n",
       " 'MOUQ': 'mouqua',\n",
       " 'NAWA': 'naswar',\n",
       " 'NOFL': 'norfli',\n",
       " 'NOGO': 'norgos',\n",
       " 'NOPO': 'nopowl',\n",
       " 'NSWO': 'nswowl',\n",
       " 'OSFL': 'olsfly',\n",
       " 'PAWR': 'pacwre1',\n",
       " 'PSFL': 'pasfly',\n",
       " 'PEFA': 'perfal',\n",
       " 'PIWO': 'pilwoo',\n",
       " 'PIGR': 'pingro',\n",
       " 'PISI': 'pinsis',\n",
       " 'PUFI': 'purfin',\n",
       " 'PYNU': 'pygnut',\n",
       " 'RECR': 'redcro',\n",
       " 'RBNU': 'rebnut',\n",
       " 'RBSA': 'rebsap',\n",
       " 'RTHA': 'rethaw',\n",
       " 'ROWR': 'rocwre',\n",
       " 'RUHU': 'rufhum',\n",
       " 'SSHA': 'shshaw',\n",
       " 'SOSP': 'sonspa',\n",
       " 'SOGR': 'soogro1',\n",
       " 'SPOW': 'spoowl',\n",
       " 'SPSA': 'sposan',\n",
       " 'SPTO': 'spotow',\n",
       " 'STJA': 'stejay',\n",
       " 'SWTH': 'swathr',\n",
       " 'TOSO': 'towsol',\n",
       " 'TRES': 'treswa',\n",
       " 'TUVU': 'turvul',\n",
       " 'UNKN': 'unknown',\n",
       " 'VASW': 'vauswi',\n",
       " 'VGSW': 'vigswa',\n",
       " 'WAVI': 'warvir',\n",
       " 'WEBL': 'wesblu',\n",
       " 'WETA': 'westan',\n",
       " 'WEWP': 'wewpew',\n",
       " 'WBNU': 'whbnut',\n",
       " 'WCSP': 'whcspa',\n",
       " 'WHWO': 'whhwoo',\n",
       " 'WTPT': 'whtpta1',\n",
       " 'WTSW': 'whtswi',\n",
       " 'WISA': 'wilsap',\n",
       " 'WIWA': 'wlswar',\n",
       " 'YRWA': 'yerwar',\n",
       " 'orju': 'daejun'}"
      ]
     },
     "execution_count": 10,
     "metadata": {},
     "output_type": "execute_result"
    }
   ],
   "source": [
    "codes = pl.read_csv(\"data/bird_codes.csv\")\n",
    "code_mapping = dict(zip(codes[\"four_code\"], codes[\"code\"]))\n",
    "code_mapping"
   ]
  }
 ],
 "metadata": {
  "kernelspec": {
   "display_name": "COMB",
   "language": "python",
   "name": "python3"
  },
  "language_info": {
   "codemirror_mode": {
    "name": "ipython",
    "version": 3
   },
   "file_extension": ".py",
   "mimetype": "text/x-python",
   "name": "python",
   "nbconvert_exporter": "python",
   "pygments_lexer": "ipython3",
   "version": "3.9.19"
  }
 },
 "nbformat": 4,
 "nbformat_minor": 2
}
