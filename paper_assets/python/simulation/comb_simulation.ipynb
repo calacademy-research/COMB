{
 "cells": [
  {
   "cell_type": "code",
   "execution_count": 1,
   "metadata": {},
   "outputs": [],
   "source": [
    "from sim_data import SimParams\n",
    "from sim_model import SimModel\n",
    "from sim_results import SimResults\n",
    "import matplotlib.pyplot as plt\n",
    "from tqdm import tqdm"
   ]
  },
  {
   "cell_type": "code",
   "execution_count": 2,
   "metadata": {},
   "outputs": [],
   "source": [
    "results = SimResults.load(\"sim_summary_2\")"
   ]
  },
  {
   "cell_type": "code",
   "execution_count": null,
   "metadata": {},
   "outputs": [],
   "source": [
    "for _ in tqdm(range(100)):\n",
    "    model = SimModel.load_from_sim_results(results)\n",
    "    samples = model.sample()\n",
    "    results.append_samples(samples)"
   ]
  },
  {
   "cell_type": "code",
   "execution_count": null,
   "metadata": {},
   "outputs": [],
   "source": [
    "results.save(\"sim_summary_2\")"
   ]
  },
  {
   "cell_type": "code",
   "execution_count": null,
   "metadata": {},
   "outputs": [],
   "source": [
    "results.plot_summary_hists()"
   ]
  },
  {
   "cell_type": "code",
   "execution_count": null,
   "metadata": {},
   "outputs": [],
   "source": [
    "N_SIMS = 10\n",
    "\n",
    "params = SimParams(\n",
    "    nsites=80,\n",
    "    nsurveys_aru=24,\n",
    "    nsurveys_pc=3,\n",
    "    covar_continuous=True,\n",
    "    beta0=-2,\n",
    "    beta1=0,\n",
    "    threshold=0,\n",
    "    include_covar_model=True,\n",
    ")\n",
    "\n",
    "\n",
    "def run_sim():\n",
    "    model = SimModel(params)\n",
    "\n",
    "    samples = model.sample()\n",
    "    return samples\n",
    "\n",
    "\n",
    "sim_results = SimResults(params)\n",
    "\n",
    "for _ in tqdm(range(N_SIMS), total=N_SIMS):\n",
    "    samples = run_sim()\n",
    "    sim_results.append_samples(samples)"
   ]
  },
  {
   "cell_type": "code",
   "execution_count": null,
   "metadata": {},
   "outputs": [],
   "source": [
    "summary = sim_results.get_summary()"
   ]
  },
  {
   "cell_type": "code",
   "execution_count": null,
   "metadata": {},
   "outputs": [],
   "source": [
    "sim_results.save_summary(\"test\")"
   ]
  },
  {
   "cell_type": "code",
   "execution_count": null,
   "metadata": {},
   "outputs": [],
   "source": [
    "sim_results.sim_params.beta1"
   ]
  },
  {
   "cell_type": "code",
   "execution_count": null,
   "metadata": {},
   "outputs": [],
   "source": [
    "summary[\"beta0\"][\"mean\"].mean()"
   ]
  },
  {
   "cell_type": "code",
   "execution_count": null,
   "metadata": {},
   "outputs": [],
   "source": [
    "plt.hist(samples[\"p_aru11\"].reshape(-1), bins=20)"
   ]
  }
 ],
 "metadata": {
  "kernelspec": {
   "display_name": "Python 3",
   "language": "python",
   "name": "python3"
  },
  "language_info": {
   "codemirror_mode": {
    "name": "ipython",
    "version": 3
   },
   "file_extension": ".py",
   "mimetype": "text/x-python",
   "name": "python",
   "nbconvert_exporter": "python",
   "pygments_lexer": "ipython3",
   "version": "3.9.19"
  }
 },
 "nbformat": 4,
 "nbformat_minor": 2
}
