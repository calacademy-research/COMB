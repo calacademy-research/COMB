{
 "cells": [
  {
   "cell_type": "markdown",
   "metadata": {},
   "source": [
    "Notebook to add extra columns to the summary csvs. \n",
    "\n",
    "Will add the simulation parameters as columns to the summary csvs."
   ]
  },
  {
   "cell_type": "code",
   "execution_count": 8,
   "metadata": {},
   "outputs": [],
   "source": [
    "import polars as pl\n",
    "import os\n",
    "from pathlib import Path\n",
    "from sim_lib.sim_results import ManySimResults, SimResults\n",
    "import pandas as pd\n",
    "from tqdm import tqdm\n",
    "import shutil"
   ]
  },
  {
   "cell_type": "code",
   "execution_count": 2,
   "metadata": {},
   "outputs": [],
   "source": [
    "DIR = Path(\"outputs/testing2\")\n",
    "NEW_DIR = Path(\"outputs/summary_with_extra_cols\")"
   ]
  },
  {
   "cell_type": "code",
   "execution_count": 8,
   "metadata": {},
   "outputs": [],
   "source": [
    "combs = os.listdir(DIR)"
   ]
  },
  {
   "cell_type": "code",
   "execution_count": 38,
   "metadata": {},
   "outputs": [],
   "source": [
    "def add_cols_to_comb(comb_dir: Path):\n",
    "    sim = SimResults.load(comb_dir)\n",
    "\n",
    "    params = sim.sim_params.__dict__\n",
    "\n",
    "    new_dir = NEW_DIR / comb_dir.name\n",
    "    new_dir.mkdir(exist_ok=True)\n",
    "\n",
    "    for param, summary in sim.summary.items():\n",
    "        params_df = pd.DataFrame([params] * len(summary))\n",
    "        new_summary = pd.concat([summary, params_df], axis=1)\n",
    "        del new_summary[\"Unnamed: 0\"]\n",
    "        new_summary.to_csv(new_dir / f\"{param}.csv\")"
   ]
  },
  {
   "cell_type": "code",
   "execution_count": null,
   "metadata": {},
   "outputs": [
    {
     "name": "stderr",
     "output_type": "stream",
     "text": [
      "  1%|          | 39/6461 [00:01<05:14, 20.42it/s]"
     ]
    }
   ],
   "source": [
    "for comb in tqdm(combs):\n",
    "    add_cols_to_comb(DIR / comb)"
   ]
  },
  {
   "cell_type": "code",
   "execution_count": 12,
   "metadata": {},
   "outputs": [
    {
     "name": "stderr",
     "output_type": "stream",
     "text": [
      "100%|██████████| 6461/6461 [02:58<00:00, 36.23it/s]\n"
     ]
    }
   ],
   "source": [
    "full = []\n",
    "\n",
    "new_combs = os.listdir(NEW_DIR)\n",
    "for p in tqdm(new_combs):\n",
    "    x = pl.read_csv(NEW_DIR / p / \"beta0.csv\")\n",
    "    if len(x) > 50:\n",
    "        full.append(p)\n",
    "        new = Path(\"outputs/summary_with_extra_cols_full\") / p\n",
    "        # new.mkdir(exist_ok=True)\n",
    "        shutil.copytree(NEW_DIR / p, new)"
   ]
  },
  {
   "cell_type": "code",
   "execution_count": 7,
   "metadata": {},
   "outputs": [
    {
     "data": {
      "text/plain": [
       "'sim_summary_-103053653293082094'"
      ]
     },
     "execution_count": 7,
     "metadata": {},
     "output_type": "execute_result"
    }
   ],
   "source": [
    "full[0]"
   ]
  },
  {
   "cell_type": "code",
   "execution_count": null,
   "metadata": {},
   "outputs": [],
   "source": []
  }
 ],
 "metadata": {
  "kernelspec": {
   "display_name": "COMB",
   "language": "python",
   "name": "python3"
  },
  "language_info": {
   "codemirror_mode": {
    "name": "ipython",
    "version": 3
   },
   "file_extension": ".py",
   "mimetype": "text/x-python",
   "name": "python",
   "nbconvert_exporter": "python",
   "pygments_lexer": "ipython3",
   "version": "3.9.19"
  }
 },
 "nbformat": 4,
 "nbformat_minor": 2
}
