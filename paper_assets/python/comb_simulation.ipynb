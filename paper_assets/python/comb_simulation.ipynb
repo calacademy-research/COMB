{
 "cells": [
  {
   "cell_type": "code",
   "execution_count": 1,
   "metadata": {},
   "outputs": [],
   "source": [
    "import pyjags\n",
    "import numpy as np\n",
    "import pyjags.model\n",
    "from sim_data import SimParams\n",
    "from sim_model import SimModel\n",
    "from sim_results import SimResults\n",
    "import matplotlib.pyplot as plt\n",
    "import arviz as az\n",
    "import pandas as pd"
   ]
  },
  {
   "cell_type": "code",
   "execution_count": 2,
   "metadata": {},
   "outputs": [
    {
     "ename": "JagsError",
     "evalue": "RUNTIME ERROR:\nCompilation error on line 6.\nUnknown variable psi\nEither supply values for this variable with the data\nor define it  on the left hand side of a relation.\n",
     "output_type": "error",
     "traceback": [
      "\u001b[0;31m---------------------------------------------------------------------------\u001b[0m",
      "\u001b[0;31mJagsError\u001b[0m                                 Traceback (most recent call last)",
      "Cell \u001b[0;32mIn[2], line 23\u001b[0m\n\u001b[1;32m     20\u001b[0m sim_results \u001b[38;5;241m=\u001b[39m SimResults(params)\n\u001b[1;32m     22\u001b[0m \u001b[38;5;28;01mfor\u001b[39;00m _ \u001b[38;5;129;01min\u001b[39;00m \u001b[38;5;28mrange\u001b[39m(\u001b[38;5;241m10\u001b[39m):\n\u001b[0;32m---> 23\u001b[0m     samples \u001b[38;5;241m=\u001b[39m \u001b[43mrun_sim\u001b[49m\u001b[43m(\u001b[49m\u001b[43m)\u001b[49m\n\u001b[1;32m     24\u001b[0m     sim_results\u001b[38;5;241m.\u001b[39mappend_samples(samples)\n",
      "Cell \u001b[0;32mIn[2], line 14\u001b[0m, in \u001b[0;36mrun_sim\u001b[0;34m()\u001b[0m\n\u001b[1;32m     13\u001b[0m \u001b[38;5;28;01mdef\u001b[39;00m \u001b[38;5;21mrun_sim\u001b[39m():\n\u001b[0;32m---> 14\u001b[0m     model \u001b[38;5;241m=\u001b[39m \u001b[43mSimModel\u001b[49m\u001b[43m(\u001b[49m\u001b[43mparams\u001b[49m\u001b[43m)\u001b[49m\n\u001b[1;32m     16\u001b[0m     samples \u001b[38;5;241m=\u001b[39m model\u001b[38;5;241m.\u001b[39msample()\n\u001b[1;32m     17\u001b[0m     \u001b[38;5;28;01mreturn\u001b[39;00m samples\n",
      "File \u001b[0;32m~/github/COMB/paper_assets/python/sim_model.py:23\u001b[0m, in \u001b[0;36mSimModel.__init__\u001b[0;34m(self, params)\u001b[0m\n\u001b[1;32m     19\u001b[0m \u001b[38;5;66;03m# first generate the simulation data\u001b[39;00m\n\u001b[1;32m     20\u001b[0m \u001b[38;5;66;03m# generate jags data model text\u001b[39;00m\n\u001b[1;32m     21\u001b[0m \u001b[38;5;66;03m# this \"model\" will only generate data to be used in the simulation\u001b[39;00m\n\u001b[1;32m     22\u001b[0m \u001b[38;5;28mself\u001b[39m\u001b[38;5;241m.\u001b[39mdata_text \u001b[38;5;241m=\u001b[39m \u001b[38;5;28mself\u001b[39m\u001b[38;5;241m.\u001b[39mgen_jags_data_text()\n\u001b[0;32m---> 23\u001b[0m sim_data \u001b[38;5;241m=\u001b[39m \u001b[38;5;28;43mself\u001b[39;49m\u001b[38;5;241;43m.\u001b[39;49m\u001b[43mgen_simulated_data\u001b[49m\u001b[43m(\u001b[49m\u001b[43m)\u001b[49m\n\u001b[1;32m     25\u001b[0m \u001b[38;5;66;03m# generate the jags model text for the actual model\u001b[39;00m\n\u001b[1;32m     26\u001b[0m \u001b[38;5;28mself\u001b[39m\u001b[38;5;241m.\u001b[39mmodel_text \u001b[38;5;241m=\u001b[39m \u001b[38;5;28mself\u001b[39m\u001b[38;5;241m.\u001b[39mgen_jags_model_text()\n",
      "File \u001b[0;32m~/github/COMB/paper_assets/python/sim_model.py:359\u001b[0m, in \u001b[0;36mSimModel.gen_simulated_data\u001b[0;34m(self)\u001b[0m\n\u001b[1;32m    357\u001b[0m data_vars \u001b[38;5;241m=\u001b[39m \u001b[38;5;28mself\u001b[39m\u001b[38;5;241m.\u001b[39mfind_variables(\u001b[38;5;28mlist\u001b[39m(\u001b[38;5;28mself\u001b[39m\u001b[38;5;241m.\u001b[39mparams\u001b[38;5;241m.\u001b[39m\u001b[38;5;18m__dict__\u001b[39m\u001b[38;5;241m.\u001b[39mkeys()), \u001b[38;5;28mself\u001b[39m\u001b[38;5;241m.\u001b[39mdata_text)\n\u001b[1;32m    358\u001b[0m data \u001b[38;5;241m=\u001b[39m {var: \u001b[38;5;28mself\u001b[39m\u001b[38;5;241m.\u001b[39mparams\u001b[38;5;241m.\u001b[39m\u001b[38;5;18m__dict__\u001b[39m[var] \u001b[38;5;28;01mfor\u001b[39;00m var \u001b[38;5;129;01min\u001b[39;00m data_vars}\n\u001b[0;32m--> 359\u001b[0m data_model \u001b[38;5;241m=\u001b[39m \u001b[43mpyjags\u001b[49m\u001b[38;5;241;43m.\u001b[39;49m\u001b[43mModel\u001b[49m\u001b[43m(\u001b[49m\u001b[43mcode\u001b[49m\u001b[38;5;241;43m=\u001b[39;49m\u001b[38;5;28;43mself\u001b[39;49m\u001b[38;5;241;43m.\u001b[39;49m\u001b[43mdata_text\u001b[49m\u001b[43m,\u001b[49m\u001b[43m \u001b[49m\u001b[43mdata\u001b[49m\u001b[38;5;241;43m=\u001b[39;49m\u001b[43mdata\u001b[49m\u001b[43m,\u001b[49m\u001b[43m \u001b[49m\u001b[43mchains\u001b[49m\u001b[38;5;241;43m=\u001b[39;49m\u001b[38;5;241;43m1\u001b[39;49m\u001b[43m)\u001b[49m\n\u001b[1;32m    360\u001b[0m samples \u001b[38;5;241m=\u001b[39m data_model\u001b[38;5;241m.\u001b[39msample(iterations\u001b[38;5;241m=\u001b[39m\u001b[38;5;241m1\u001b[39m)\n\u001b[1;32m    361\u001b[0m monitored \u001b[38;5;241m=\u001b[39m {\u001b[38;5;124m\"\u001b[39m\u001b[38;5;124my_aru\u001b[39m\u001b[38;5;124m\"\u001b[39m, \u001b[38;5;124m\"\u001b[39m\u001b[38;5;124my_pc\u001b[39m\u001b[38;5;124m\"\u001b[39m, \u001b[38;5;124m\"\u001b[39m\u001b[38;5;124mscores\u001b[39m\u001b[38;5;124m\"\u001b[39m}\n",
      "File \u001b[0;32m~/miniconda3/envs/COMB/lib/python3.9/site-packages/pyjags/model.py:286\u001b[0m, in \u001b[0;36mModel.__init__\u001b[0;34m(self, code, data, init, chains, adapt, file, encoding, generate_data, progress_bar, refresh_seconds, threads, chains_per_thread)\u001b[0m\n\u001b[1;32m    283\u001b[0m \u001b[38;5;28;01mwith\u001b[39;00m model_path(file, code, encoding) \u001b[38;5;28;01mas\u001b[39;00m path:\n\u001b[1;32m    284\u001b[0m     \u001b[38;5;28mself\u001b[39m\u001b[38;5;241m.\u001b[39mconsole\u001b[38;5;241m.\u001b[39mcheckModel(path)\n\u001b[0;32m--> 286\u001b[0m \u001b[38;5;28;43mself\u001b[39;49m\u001b[38;5;241;43m.\u001b[39;49m\u001b[43m_init_compile\u001b[49m\u001b[43m(\u001b[49m\u001b[43mdata\u001b[49m\u001b[43m,\u001b[49m\u001b[43m \u001b[49m\u001b[43mgenerate_data\u001b[49m\u001b[43m)\u001b[49m\n\u001b[1;32m    287\u001b[0m \u001b[38;5;28mself\u001b[39m\u001b[38;5;241m.\u001b[39m_init_parameters(init)\n\u001b[1;32m    288\u001b[0m \u001b[38;5;28mself\u001b[39m\u001b[38;5;241m.\u001b[39mconsole\u001b[38;5;241m.\u001b[39minitialize()\n",
      "File \u001b[0;32m~/miniconda3/envs/COMB/lib/python3.9/site-packages/pyjags/model.py:300\u001b[0m, in \u001b[0;36mModel._init_compile\u001b[0;34m(self, data, generate_data)\u001b[0m\n\u001b[1;32m    297\u001b[0m \u001b[38;5;28;01mif\u001b[39;00m unused:\n\u001b[1;32m    298\u001b[0m     \u001b[38;5;28;01mraise\u001b[39;00m \u001b[38;5;167;01mValueError\u001b[39;00m(\n\u001b[1;32m    299\u001b[0m         \u001b[38;5;124m'\u001b[39m\u001b[38;5;124mUnused data for variables: \u001b[39m\u001b[38;5;132;01m{}\u001b[39;00m\u001b[38;5;124m'\u001b[39m\u001b[38;5;241m.\u001b[39mformat(\u001b[38;5;124m'\u001b[39m\u001b[38;5;124m,\u001b[39m\u001b[38;5;124m'\u001b[39m\u001b[38;5;241m.\u001b[39mjoin(unused)))\n\u001b[0;32m--> 300\u001b[0m \u001b[38;5;28;43mself\u001b[39;49m\u001b[38;5;241;43m.\u001b[39;49m\u001b[43mconsole\u001b[49m\u001b[38;5;241;43m.\u001b[39;49m\u001b[43mcompile\u001b[49m\u001b[43m(\u001b[49m\u001b[43mdata\u001b[49m\u001b[43m,\u001b[49m\u001b[43m \u001b[49m\u001b[38;5;28;43mself\u001b[39;49m\u001b[38;5;241;43m.\u001b[39;49m\u001b[43mchains\u001b[49m\u001b[43m,\u001b[49m\u001b[43m \u001b[49m\u001b[43mgenerate_data\u001b[49m\u001b[43m)\u001b[49m\n",
      "\u001b[0;31mJagsError\u001b[0m: RUNTIME ERROR:\nCompilation error on line 6.\nUnknown variable psi\nEither supply values for this variable with the data\nor define it  on the left hand side of a relation.\n"
     ]
    }
   ],
   "source": [
    "params = SimParams(\n",
    "    nsites=25,\n",
    "    nsurveys_aru=3,\n",
    "    nsurveys_pc=3,\n",
    "    covar_continuous=True,\n",
    "    beta0=0,\n",
    "    beta1=1,\n",
    "    threshold=0,\n",
    "    include_covar_model=False\n",
    ")\n",
    "\n",
    "\n",
    "def run_sim():\n",
    "    model = SimModel(params)\n",
    "\n",
    "    samples = model.sample()\n",
    "    return samples\n",
    "\n",
    "\n",
    "sim_results = SimResults(params)\n",
    "\n",
    "for _ in range(10):\n",
    "    samples = run_sim()\n",
    "    sim_results.append_samples(samples)"
   ]
  },
  {
   "cell_type": "code",
   "execution_count": 10,
   "metadata": {},
   "outputs": [
    {
     "data": {
      "text/plain": [
       "1"
      ]
     },
     "execution_count": 10,
     "metadata": {},
     "output_type": "execute_result"
    }
   ],
   "source": [
    "sim_results.sim_params.beta1"
   ]
  },
  {
   "cell_type": "code",
   "execution_count": 3,
   "metadata": {},
   "outputs": [],
   "source": [
    "summary = sim_results.get_summary()"
   ]
  },
  {
   "cell_type": "code",
   "execution_count": 11,
   "metadata": {},
   "outputs": [
    {
     "data": {
      "text/html": [
       "<div>\n",
       "<style scoped>\n",
       "    .dataframe tbody tr th:only-of-type {\n",
       "        vertical-align: middle;\n",
       "    }\n",
       "\n",
       "    .dataframe tbody tr th {\n",
       "        vertical-align: top;\n",
       "    }\n",
       "\n",
       "    .dataframe thead th {\n",
       "        text-align: right;\n",
       "    }\n",
       "</style>\n",
       "<table border=\"1\" class=\"dataframe\">\n",
       "  <thead>\n",
       "    <tr style=\"text-align: right;\">\n",
       "      <th></th>\n",
       "      <th>mean</th>\n",
       "      <th>sd</th>\n",
       "      <th>hdi_3%</th>\n",
       "      <th>hdi_97%</th>\n",
       "      <th>mcse_mean</th>\n",
       "      <th>mcse_sd</th>\n",
       "      <th>ess_bulk</th>\n",
       "      <th>ess_tail</th>\n",
       "      <th>r_hat</th>\n",
       "    </tr>\n",
       "  </thead>\n",
       "  <tbody>\n",
       "    <tr>\n",
       "      <th>0</th>\n",
       "      <td>1.672</td>\n",
       "      <td>0.633</td>\n",
       "      <td>0.507</td>\n",
       "      <td>2.859</td>\n",
       "      <td>0.004</td>\n",
       "      <td>0.003</td>\n",
       "      <td>28106.0</td>\n",
       "      <td>25151.0</td>\n",
       "      <td>1.0</td>\n",
       "    </tr>\n",
       "  </tbody>\n",
       "</table>\n",
       "</div>"
      ],
      "text/plain": [
       "    mean     sd  hdi_3%  hdi_97%  mcse_mean  mcse_sd  ess_bulk  ess_tail  \\\n",
       "0  1.672  0.633   0.507    2.859      0.004    0.003   28106.0   25151.0   \n",
       "\n",
       "   r_hat  \n",
       "0    1.0  "
      ]
     },
     "execution_count": 11,
     "metadata": {},
     "output_type": "execute_result"
    }
   ],
   "source": [
    "summary[\"beta1\"]"
   ]
  },
  {
   "cell_type": "code",
   "execution_count": 17,
   "metadata": {},
   "outputs": [
    {
     "data": {
      "text/plain": [
       "(array([2.000e+00, 4.000e+00, 1.200e+01, 4.500e+01, 1.490e+02, 4.920e+02,\n",
       "        1.125e+03, 2.206e+03, 3.975e+03, 5.766e+03, 7.316e+03, 7.812e+03,\n",
       "        7.191e+03, 5.376e+03, 3.478e+03, 1.846e+03, 8.180e+02, 2.890e+02,\n",
       "        8.700e+01, 1.100e+01]),\n",
       " array([0.20370519, 0.22940663, 0.25510807, 0.28080952, 0.30651096,\n",
       "        0.3322124 , 0.35791385, 0.38361529, 0.40931673, 0.43501818,\n",
       "        0.46071962, 0.48642106, 0.51212251, 0.53782395, 0.56352539,\n",
       "        0.58922684, 0.61492828, 0.64062972, 0.66633117, 0.69203261,\n",
       "        0.71773405]),\n",
       " <BarContainer object of 20 artists>)"
      ]
     },
     "execution_count": 17,
     "metadata": {},
     "output_type": "execute_result"
    },
    {
     "data": {
      "image/png": "[encoded data removed]",
      "text/plain": [
       "<Figure size 640x480 with 1 Axes>"
      ]
     },
     "metadata": {},
     "output_type": "display_data"
    }
   ],
   "source": [
    "plt.hist(samples[\"p_aru11\"].reshape(-1), bins=20)"
   ]
  }
 ],
 "metadata": {
  "kernelspec": {
   "display_name": "Python 3",
   "language": "python",
   "name": "python3"
  },
  "language_info": {
   "codemirror_mode": {
    "name": "ipython",
    "version": 3
   },
   "file_extension": ".py",
   "mimetype": "text/x-python",
   "name": "python",
   "nbconvert_exporter": "python",
   "pygments_lexer": "ipython3",
   "version": "3.9.19"
  }
 },
 "nbformat": 4,
 "nbformat_minor": 2
}
